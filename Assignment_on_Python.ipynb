{
  "nbformat": 4,
  "nbformat_minor": 0,
  "metadata": {
    "colab": {
      "provenance": [],
      "collapsed_sections": []
    },
    "kernelspec": {
      "name": "python3",
      "display_name": "Python 3"
    },
    "language_info": {
      "name": "python"
    }
  },
  "cells": [
    {
      "cell_type": "markdown",
      "source": [
        "### Question 1"
      ],
      "metadata": {
        "id": "dY-kq3zNkMxw"
      }
    },
    {
      "cell_type": "code",
      "execution_count": null,
      "metadata": {
        "colab": {
          "base_uri": "https://localhost:8080/"
        },
        "id": "7SGef0HSec2S",
        "outputId": "c06b48e6-8e34-48b1-c5cd-828bef554033"
      },
      "outputs": [
        {
          "output_type": "stream",
          "name": "stdout",
          "text": [
            "mean:17.666666666666668\n"
          ]
        }
      ],
      "source": [
        "# list of elements to calculate mean\n",
        "\n",
        "num = [7, 20, 15, 22, 12, 30]\n",
        "n = len(num)\n",
        "summ = sum(num)\n",
        "mean = summ/n\n",
        "\n",
        "print(\"mean:\" + str(mean))"
      ]
    },
    {
      "cell_type": "code",
      "source": [
        "# list of elements to calculate median\n",
        "\n",
        "num = [7, 20, 15, 22, 12, 30]\n",
        "n = len(num)\n",
        "num.sort()\n",
        "if n % 2 == 0:\n",
        "  median1 = num[n//2]\n",
        "  median2 = num[n//2-1]\n",
        "  median = (median1 + median2)/2\n",
        "else:\n",
        "  median = num[n//2]\n",
        "\n",
        "print(\"median:\" + str(median))"
      ],
      "metadata": {
        "colab": {
          "base_uri": "https://localhost:8080/"
        },
        "id": "ZImAp4MugmJn",
        "outputId": "90397b5f-0c3f-46f9-b881-0e9f2be7b7c1"
      },
      "execution_count": null,
      "outputs": [
        {
          "output_type": "stream",
          "name": "stdout",
          "text": [
            "median:17.5\n"
          ]
        }
      ]
    },
    {
      "cell_type": "code",
      "source": [
        "# First quartile (Q1)\n",
        "\n",
        "num = [7, 20, 15, 22, 12, 30]\n",
        "n = len(num)\n",
        "num.sort()\n",
        "Q1 = num[1*(n-1)//4+1]\n",
        "print(\"Q1:\", Q1)"
      ],
      "metadata": {
        "colab": {
          "base_uri": "https://localhost:8080/"
        },
        "id": "Z1zi3q0Jivec",
        "outputId": "cf03f23e-7c9f-4e5c-ef1f-7c171c8ad5d1"
      },
      "execution_count": null,
      "outputs": [
        {
          "output_type": "stream",
          "name": "stdout",
          "text": [
            "Q1: 15\n"
          ]
        }
      ]
    },
    {
      "cell_type": "code",
      "source": [
        "# Third quartile (Q3)\n",
        "\n",
        "num = [7, 20, 15, 22, 12, 30]\n",
        "n = len(num)\n",
        "num.sort()\n",
        "Q3 = num[3*(n-1)//4+1]\n",
        "print(\"Q3:\", Q3)"
      ],
      "metadata": {
        "colab": {
          "base_uri": "https://localhost:8080/"
        },
        "id": "2-rNKyFBxx9r",
        "outputId": "9f1312e5-bfce-4225-8d58-3d86abba4501"
      },
      "execution_count": null,
      "outputs": [
        {
          "output_type": "stream",
          "name": "stdout",
          "text": [
            "Q3: 22\n"
          ]
        }
      ]
    },
    {
      "cell_type": "code",
      "source": [
        "# Interquartile Range (IQR)\n",
        "\n",
        "IQR = Q3-Q1\n",
        "print(IQR)"
      ],
      "metadata": {
        "colab": {
          "base_uri": "https://localhost:8080/"
        },
        "id": "ZJp7kxtR1TJx",
        "outputId": "0589dda1-2c04-4504-cee3-408a060f67bd"
      },
      "execution_count": null,
      "outputs": [
        {
          "output_type": "stream",
          "name": "stdout",
          "text": [
            "7\n"
          ]
        }
      ]
    },
    {
      "cell_type": "markdown",
      "source": [
        "### Question 2"
      ],
      "metadata": {
        "id": "llM_u-IF2p5U"
      }
    },
    {
      "cell_type": "code",
      "source": [
        "import random\n",
        "one = 0\n",
        "two = 0\n",
        "three = 0\n",
        "four = 0\n",
        "five = 0\n",
        "six = 0\n",
        "for i in range(10000):\n",
        "  roll=random.randint(1,6)\n",
        "  if roll==1:\n",
        "    one+=1\n",
        "  elif roll==2:\n",
        "    two+=1\n",
        "  elif roll==3:\n",
        "    three+=1\n",
        "  elif roll==4:\n",
        "    four+=1\n",
        "  elif roll==5:\n",
        "    five+=1\n",
        "  elif roll==6:\n",
        "    six+=1\n",
        "Total = [one, two, three, four, five, six]\n",
        "Total"
      ],
      "metadata": {
        "colab": {
          "base_uri": "https://localhost:8080/"
        },
        "id": "XMFzobet1m1E",
        "outputId": "694bb35c-78a7-4bd1-b2df-7b86dc6cb600"
      },
      "execution_count": null,
      "outputs": [
        {
          "output_type": "execute_result",
          "data": {
            "text/plain": [
              "[1642, 1623, 1568, 1691, 1737, 1739]"
            ]
          },
          "metadata": {},
          "execution_count": 34
        }
      ]
    }
  ]
}